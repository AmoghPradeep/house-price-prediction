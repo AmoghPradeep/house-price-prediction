{
 "cells": [
  {
   "cell_type": "markdown",
   "metadata": {
    "collapsed": true,
    "pycharm": {
     "name": "#%% md\n"
    }
   },
   "source": [
    "<hr>\n",
    "<h1><font size = \"+6\"> <b>House Price Predictor</b></font></h1>\n",
    "<hr>"
   ]
  },
  {
   "cell_type": "markdown",
   "metadata": {
    "collapsed": false
   },
   "source": [
    "Author : Amogh Pradeep<br>Email : amogh.pradeep049@nmims.edu"
   ]
  },
  {
   "cell_type": "markdown",
   "source": [
    "## I. Getting Started\n",
    "<hr>"
   ],
   "metadata": {
    "collapsed": false
   }
  },
  {
   "cell_type": "code",
   "execution_count": 1,
   "metadata": {
    "collapsed": false,
    "pycharm": {
     "name": "#%%\n"
    }
   },
   "outputs": [],
   "source": [
    "import pandas as pd\n",
    "import matplotlib.pyplot as plt\n",
    "import seaborn as sns\n",
    "import numpy as np\n",
    "from scipy.stats import norm\n",
    "from scipy.stats import linregress\n",
    "from sklearn.preprocessing import StandardScaler\n",
    "from scipy import stats\n",
    "import warnings\n",
    "import math\n",
    "sns.set()\n",
    "# plt.style.use(\"dark_background\")\n",
    "warnings.filterwarnings('ignore')\n",
    "%matplotlib inline"
   ]
  },
  {
   "cell_type": "code",
   "execution_count": 2,
   "metadata": {
    "collapsed": false,
    "pycharm": {
     "name": "#%%\n"
    }
   },
   "outputs": [],
   "source": [
    "train_df = pd.read_csv(\"house-prices-advanced-regression-techniques\\\\train.csv\")"
   ]
  },
  {
   "cell_type": "code",
   "execution_count": 3,
   "metadata": {
    "collapsed": false,
    "pycharm": {
     "name": "#%%\n"
    }
   },
   "outputs": [],
   "source": [
    "test_df = pd.read_csv(\"house-prices-advanced-regression-techniques\\\\test.csv\")"
   ]
  },
  {
   "cell_type": "markdown",
   "metadata": {
    "collapsed": false
   },
   "source": [
    "##### Pre-defined function template\n",
    "Ignore below code cell !"
   ]
  },
  {
   "cell_type": "code",
   "execution_count": 4,
   "metadata": {
    "collapsed": false,
    "pycharm": {
     "name": "#%%\n"
    }
   },
   "outputs": [],
   "source": [
    "# Helper Functions -- Jump to code cell below\n",
    "def get_scatterplot(df, var, col = 10, row = 7):\n",
    "    plt.figure(figsize=(col, row))\n",
    "    data = pd.concat([df[var], df[target]], axis = 1)\n",
    "    sns.scatterplot(data = data, x = var, y = target)\n",
    "\n",
    "def get_boxplot(df, x, y = None, col = 10, row = 7):\n",
    "    plt.figure(figsize=(col, row))\n",
    "    data = pd.concat([df[x], df[target]], axis = 1)\n",
    "    if y == None:\n",
    "        sns.boxplot(data = data, x = x)\n",
    "    else:\n",
    "        sns.boxplot(data = data, x = x, y = y)\n",
    "\n",
    "def get_heatmap(correlations, theme = \"bwr\", col = 15, row = 15, round_off = 1, annot = False):\n",
    "    plt.figure(figsize=(col, row))\n",
    "    round_off = str(round_off)\n",
    "    sns.heatmap(correlations, square = True, cmap = theme, fmt = \".\" + round_off + \"f\", annot = annot, center = 0, linecolor =\"white\")\n",
    "\n",
    "def get_correlated(df, k = 10, plot = True, theme = \"bwr\", col = 15, row = 15, round_off = 1, annot = False):\n",
    "    cols = df.corr().nlargest(k, target)[target]\n",
    "    if plot:\n",
    "        get_heatmap(df[cols.index].corr(), theme, col, row, round_off, annot)\n",
    "    return cols\n",
    "\n",
    "def get_pairplot(df, vars, col = 15, row = 15, size = 2.5):\n",
    "    plt.figure(figsize=(col, row))\n",
    "    sns.pairplot(df[vars], size = size)\n",
    "\n",
    "# Set kde = False to disable line.\n",
    "def get_distplot(df, var, kde = True, fit = None):\n",
    "    sns.distplot(df[var], kde = kde, fit = fit)\n",
    "    return {\"Skewness\" : df[var].skew(), \"Kurtosis\" : df[var].kurt()}\n",
    "\n",
    "# Returns categorical cols, numeric cols, and labelled dataframe consisting of both.\n",
    "def identify_columns(df):\n",
    "    categorical = [col for col in df.columns if df[col].dtype == 'O']\n",
    "    numeric = [col for col in df.columns if df[col].dtype != 'O']\n",
    "    return categorical, numeric"
   ]
  },
  {
   "cell_type": "markdown",
   "metadata": {
    "collapsed": false
   },
   "source": [
    "### Initial Dataset Analysis"
   ]
  },
  {
   "cell_type": "code",
   "execution_count": 5,
   "metadata": {
    "collapsed": false,
    "pycharm": {
     "name": "#%%\n"
    }
   },
   "outputs": [
    {
     "data": {
      "text/plain": "Index(['1stFlrSF', '2ndFlrSF', '3SsnPorch', 'Alley', 'BedroomAbvGr',\n       'BldgType', 'BsmtCond', 'BsmtExposure', 'BsmtFinSF1', 'BsmtFinSF2',\n       'BsmtFinType1', 'BsmtFinType2', 'BsmtFullBath', 'BsmtHalfBath',\n       'BsmtQual', 'BsmtUnfSF', 'CentralAir', 'Condition1', 'Condition2',\n       'Electrical', 'EnclosedPorch', 'ExterCond', 'ExterQual', 'Exterior1st',\n       'Exterior2nd', 'Fence', 'FireplaceQu', 'Fireplaces', 'Foundation',\n       'FullBath', 'Functional', 'GarageArea', 'GarageCars', 'GarageCond',\n       'GarageFinish', 'GarageQual', 'GarageType', 'GarageYrBlt', 'GrLivArea',\n       'HalfBath', 'Heating', 'HeatingQC', 'HouseStyle', 'Id', 'KitchenAbvGr',\n       'KitchenQual', 'LandContour', 'LandSlope', 'LotArea', 'LotConfig',\n       'LotFrontage', 'LotShape', 'LowQualFinSF', 'MSSubClass', 'MSZoning',\n       'MasVnrArea', 'MasVnrType', 'MiscFeature', 'MiscVal', 'MoSold',\n       'Neighborhood', 'OpenPorchSF', 'OverallCond', 'OverallQual',\n       'PavedDrive', 'PoolArea', 'PoolQC', 'RoofMatl', 'RoofStyle',\n       'SaleCondition', 'SalePrice', 'SaleType', 'ScreenPorch', 'Street',\n       'TotRmsAbvGrd', 'TotalBsmtSF', 'Utilities', 'WoodDeckSF', 'YearBuilt',\n       'YearRemodAdd', 'YrSold'],\n      dtype='object')"
     },
     "execution_count": 5,
     "metadata": {},
     "output_type": "execute_result"
    }
   ],
   "source": [
    "train_df.columns.sort_values()"
   ]
  },
  {
   "cell_type": "code",
   "execution_count": 6,
   "metadata": {
    "collapsed": false,
    "pycharm": {
     "name": "#%%\n"
    }
   },
   "outputs": [
    {
     "data": {
      "text/plain": "((1460, 81), (1459, 80))"
     },
     "execution_count": 6,
     "metadata": {},
     "output_type": "execute_result"
    }
   ],
   "source": [
    "train_df.shape, test_df.shape"
   ]
  },
  {
   "cell_type": "code",
   "execution_count": 7,
   "metadata": {
    "collapsed": false,
    "pycharm": {
     "name": "#%%\n"
    }
   },
   "outputs": [
    {
     "name": "stdout",
     "output_type": "stream",
     "text": [
      "Numeric features : ['Id', 'MSSubClass', 'LotFrontage', 'LotArea', 'OverallQual', 'OverallCond', 'YearBuilt', 'YearRemodAdd', 'MasVnrArea', 'BsmtFinSF1', 'BsmtFinSF2', 'BsmtUnfSF', 'TotalBsmtSF', '1stFlrSF', '2ndFlrSF', 'LowQualFinSF', 'GrLivArea', 'BsmtFullBath', 'BsmtHalfBath', 'FullBath', 'HalfBath', 'BedroomAbvGr', 'KitchenAbvGr', 'TotRmsAbvGrd', 'Fireplaces', 'GarageYrBlt', 'GarageCars', 'GarageArea', 'WoodDeckSF', 'OpenPorchSF', 'EnclosedPorch', '3SsnPorch', 'ScreenPorch', 'PoolArea', 'MiscVal', 'MoSold', 'YrSold', 'SalePrice'] \n",
      "Categorical features : ['MSZoning', 'Street', 'Alley', 'LotShape', 'LandContour', 'Utilities', 'LotConfig', 'LandSlope', 'Neighborhood', 'Condition1', 'Condition2', 'BldgType', 'HouseStyle', 'RoofStyle', 'RoofMatl', 'Exterior1st', 'Exterior2nd', 'MasVnrType', 'ExterQual', 'ExterCond', 'Foundation', 'BsmtQual', 'BsmtCond', 'BsmtExposure', 'BsmtFinType1', 'BsmtFinType2', 'Heating', 'HeatingQC', 'CentralAir', 'Electrical', 'KitchenQual', 'Functional', 'FireplaceQu', 'GarageType', 'GarageFinish', 'GarageQual', 'GarageCond', 'PavedDrive', 'PoolQC', 'Fence', 'MiscFeature', 'SaleType', 'SaleCondition']\n"
     ]
    }
   ],
   "source": [
    "categorical, numeric = identify_columns(train_df)\n",
    "print(\"Numeric features : {} \\nCategorical features : {}\".format(numeric, categorical))"
   ]
  },
  {
   "cell_type": "markdown",
   "metadata": {
    "collapsed": false
   },
   "source": [
    "## II. Exploratory Data Analysis\n",
    "<hr>"
   ]
  },
  {
   "cell_type": "markdown",
   "metadata": {
    "collapsed": false,
    "pycharm": {
     "name": "#%% md\n"
    }
   },
   "source": [
    "### 1. Analyzing Sales Price - target variable"
   ]
  },
  {
   "cell_type": "code",
   "execution_count": 8,
   "metadata": {
    "collapsed": false,
    "pycharm": {
     "name": "#%%\n"
    }
   },
   "outputs": [
    {
     "data": {
      "text/plain": "count      1460.000000\nmean     180921.195890\nstd       79442.502883\nmin       34900.000000\n25%      129975.000000\n50%      163000.000000\n75%      214000.000000\nmax      755000.000000\nName: SalePrice, dtype: float64"
     },
     "execution_count": 8,
     "metadata": {},
     "output_type": "execute_result"
    }
   ],
   "source": [
    "target = \"SalePrice\"\n",
    "train_df[target].describe()"
   ]
  },
  {
   "cell_type": "markdown",
   "metadata": {
    "collapsed": false,
    "pycharm": {
     "name": "#%% md\n"
    }
   },
   "source": [
    "### 2. Examining Relationships with SalePrice"
   ]
  },
  {
   "cell_type": "code",
   "execution_count": 9,
   "metadata": {
    "collapsed": false,
    "pycharm": {
     "name": "#%%\n"
    }
   },
   "outputs": [
    {
     "data": {
      "text/plain": "<Figure size 720x504 with 1 Axes>",
      "image/png": "[encoded data removed]"
     },
     "metadata": {
      "needs_background": "light"
     },
     "output_type": "display_data"
    }
   ],
   "source": [
    "#GrLivArea\n",
    "get_scatterplot(train_df, \"GrLivArea\")"
   ]
  },
  {
   "cell_type": "markdown",
   "metadata": {
    "collapsed": false
   },
   "source": [
    "2 Outliers present!"
   ]
  },
  {
   "cell_type": "code",
   "execution_count": 10,
   "metadata": {
    "collapsed": false,
    "pycharm": {
     "name": "#%%\n"
    }
   },
   "outputs": [
    {
     "data": {
      "text/plain": "<Figure size 720x504 with 1 Axes>",
      "image/png": "[encoded data removed]"
     },
     "metadata": {
      "needs_background": "light"
     },
     "output_type": "display_data"
    }
   ],
   "source": [
    "# TotalBsmtSF\n",
    "get_scatterplot(train_df, \"TotalBsmtSF\")"
   ]
  },
  {
   "cell_type": "markdown",
   "metadata": {
    "collapsed": false
   },
   "source": [
    "1 Outlier present."
   ]
  },
  {
   "cell_type": "code",
   "execution_count": 11,
   "metadata": {
    "collapsed": false,
    "pycharm": {
     "name": "#%%\n"
    }
   },
   "outputs": [
    {
     "data": {
      "text/plain": "<Figure size 720x504 with 1 Axes>",
      "image/png": "[encoded data removed]"
     },
     "metadata": {
      "needs_background": "light"
     },
     "output_type": "display_data"
    }
   ],
   "source": [
    "get_boxplot(train_df, x = \"OverallQual\", y = target)"
   ]
  },
  {
   "cell_type": "markdown",
   "metadata": {
    "collapsed": false
   },
   "source": [
    "A distinct upward trend in SalePrice is observed as expected."
   ]
  },
  {
   "cell_type": "code",
   "execution_count": 12,
   "metadata": {
    "collapsed": false,
    "pycharm": {
     "name": "#%%\n"
    }
   },
   "outputs": [
    {
     "data": {
      "text/plain": "<Figure size 2160x1080 with 1 Axes>",
      "image/png": "[encoded data removed]"
     },
     "metadata": {
      "needs_background": "light"
     },
     "output_type": "display_data"
    }
   ],
   "source": [
    "get_boxplot(train_df, x = \"YearBuilt\", y = target, col=30, row=15)"
   ]
  },
  {
   "cell_type": "markdown",
   "metadata": {
    "collapsed": false
   },
   "source": [
    "No distinct long-term trend can be seen, though there is a recent uptick in house prices."
   ]
  },
  {
   "cell_type": "markdown",
   "metadata": {
    "collapsed": false,
    "pycharm": {
     "name": "#%% md\n"
    }
   },
   "source": [
    "### 3. Discrete Variable Heatmap analysis"
   ]
  },
  {
   "cell_type": "code",
   "execution_count": null,
   "metadata": {
    "collapsed": false,
    "pycharm": {
     "name": "#%%\n",
     "is_executing": true
    }
   },
   "outputs": [],
   "source": [
    "get_heatmap(train_df.corr(), annot=True)"
   ]
  },
  {
   "cell_type": "markdown",
   "source": [
    "## III. Feature Selection\n",
    "<hr>"
   ],
   "metadata": {
    "collapsed": false
   }
  },
  {
   "cell_type": "markdown",
   "source": [
    "### 1. Discrete Features"
   ],
   "metadata": {
    "collapsed": false
   }
  },
  {
   "cell_type": "code",
   "execution_count": null,
   "metadata": {
    "collapsed": false,
    "pycharm": {
     "name": "#%%\n",
     "is_executing": true
    }
   },
   "outputs": [],
   "source": [
    "discrete_high_corr = get_correlated(train_df, annot=True, round_off=2, k=15)\n",
    "plt.title(\"Top 15 correlated features w/ SalePrice\\n\", fontsize = 28)"
   ]
  },
  {
   "cell_type": "code",
   "execution_count": null,
   "outputs": [],
   "source": [
    "print(\"Highly Correlated Variables :\\n {}\".format(discrete_high_corr.index.tolist()))"
   ],
   "metadata": {
    "collapsed": false,
    "pycharm": {
     "name": "#%%\n",
     "is_executing": true
    }
   }
  },
  {
   "cell_type": "markdown",
   "source": [
    "### Heatmap Analysis\n",
    "-  GrLivArea and TotRmsAbvGrd have a strong +ve correlation of 0.83. We can safely drop TotRmsAbvGrd.\n",
    "-  GarageYrBlt and YearBuilt have a strong +ve correlation of 0.83. We can safely drop GarageYrBlt."
   ],
   "metadata": {
    "collapsed": false
   }
  },
  {
   "cell_type": "code",
   "execution_count": null,
   "outputs": [],
   "source": [
    "discrete_high_corr.drop(index=[\"TotRmsAbvGrd\", \"GarageYrBlt\"], inplace = True)"
   ],
   "metadata": {
    "collapsed": false,
    "pycharm": {
     "name": "#%%\n",
     "is_executing": true
    }
   }
  },
  {
   "cell_type": "code",
   "execution_count": null,
   "outputs": [],
   "source": [
    "train_df = train_df[discrete_high_corr.index.tolist() + categorical]\n",
    "numeric = discrete_high_corr"
   ],
   "metadata": {
    "collapsed": false,
    "pycharm": {
     "name": "#%%\n",
     "is_executing": true
    }
   }
  },
  {
   "cell_type": "markdown",
   "metadata": {
    "collapsed": false
   },
   "source": [
    "#### Distribution of top correlated features"
   ]
  },
  {
   "cell_type": "code",
   "execution_count": null,
   "metadata": {
    "collapsed": false,
    "pycharm": {
     "name": "#%%\n",
     "is_executing": true
    }
   },
   "outputs": [],
   "source": [
    "get_pairplot(train_df, discrete_high_corr.index.tolist()[: 5])"
   ]
  },
  {
   "cell_type": "markdown",
   "metadata": {
    "collapsed": false
   },
   "source": [
    "## IV. Missing Data\n",
    "<hr>"
   ]
  },
  {
   "cell_type": "markdown",
   "metadata": {
    "collapsed": false
   },
   "source": [
    "#### Combining Test and Train Dataset.\n",
    "This will help deal with missing data efficiently, in both test and train data."
   ]
  },
  {
   "cell_type": "code",
   "execution_count": null,
   "metadata": {
    "collapsed": false,
    "pycharm": {
     "name": "#%%\n",
     "is_executing": true
    }
   },
   "outputs": [],
   "source": [
    "# Combining Both the dataframes, as any transformation we apply (on non-target columns)\n",
    "# must be applied to both train and test.\n",
    "ntrain = train_df.shape[0]\n",
    "ntest = test_df.shape[0]\n",
    "y_train = train_df[\"SalePrice\"]\n",
    "train_df.drop(columns = \"SalePrice\", inplace = True)\n",
    "df = pd.concat([train_df, test_df])\n",
    "print(\"Combined Dimensions are {}\".format(df.shape))\n",
    "print(\"y_train dimensions are {}\".format(y_train.shape))"
   ]
  },
  {
   "cell_type": "code",
   "execution_count": null,
   "metadata": {
    "collapsed": false,
    "pycharm": {
     "name": "#%%\n",
     "is_executing": true
    }
   },
   "outputs": [],
   "source": [
    "# Let's check how bad it is...\n",
    "total = df.isnull().sum().sort_values(ascending=False)\n",
    "percentage = (df.isnull().sum()/df.isnull().count()).sort_values(ascending=False) * 100\n",
    "\n",
    "missing_data = pd.concat([total, percentage], axis=1, keys=[\"Total\", \"% Missing\"])\n",
    "missing_data.head(20)"
   ]
  },
  {
   "cell_type": "markdown",
   "metadata": {
    "collapsed": false
   },
   "source": [
    "- **Step 1** : Data description says that with these columns \"na\" actually means that the given feature is not present in the house. <br> This means that the data is not missing, the feature is."
   ]
  },
  {
   "cell_type": "code",
   "execution_count": null,
   "metadata": {
    "collapsed": false,
    "pycharm": {
     "name": "#%%\n",
     "is_executing": true
    }
   },
   "outputs": [],
   "source": [
    "# replacing na with appropriate values where na doesn't mean \"data not available\"\n",
    "df[\"PoolQC\"] = df[\"PoolQC\"].fillna(\"None\") # na means no pool\n",
    "df[\"MiscFeature\"] = df[\"MiscFeature\"].fillna(\"None\") # na means no misc feature\n",
    "df[\"Alley\"] = df[\"Alley\"].fillna(\"None\") # na means no misc feature\n",
    "df[\"Fence\"] = df[\"Fence\"].fillna(\"None\") # na means no fence\n",
    "df[\"FireplaceQu\"] = df[\"FireplaceQu\"].fillna(\"None\") # na means no fireplace"
   ]
  },
  {
   "cell_type": "markdown",
   "metadata": {
    "collapsed": false
   },
   "source": [
    "- **Step 2** : Dealing with all garage features."
   ]
  },
  {
   "cell_type": "code",
   "execution_count": null,
   "metadata": {
    "collapsed": false,
    "pycharm": {
     "name": "#%%\n",
     "is_executing": true
    }
   },
   "outputs": [],
   "source": [
    "# replacing values for homes without garages.\n",
    "for col in ('GarageType', 'GarageFinish', 'GarageQual', 'GarageCond'):\n",
    "    df[col] = df[col].fillna('None')\n",
    "for col in ('GarageYrBlt', 'GarageArea', 'GarageCars'):\n",
    "    df[col] = df[col].fillna(0)"
   ]
  },
  {
   "cell_type": "markdown",
   "metadata": {
    "collapsed": false
   },
   "source": [
    "- **Step 3** : Dealing with all basement features."
   ]
  },
  {
   "cell_type": "code",
   "execution_count": null,
   "metadata": {
    "collapsed": false,
    "pycharm": {
     "name": "#%%\n",
     "is_executing": true
    }
   },
   "outputs": [],
   "source": [
    "# replacing values for homes without basements.\n",
    "for col in ('BsmtQual', 'BsmtCond', 'BsmtExposure', 'BsmtFinType1', 'BsmtFinType2'):\n",
    "    df[col] = df[col].fillna('None')\n",
    "for col in ('BsmtFinSF1', 'BsmtFinSF2', 'BsmtUnfSF','TotalBsmtSF', 'BsmtFullBath', 'BsmtHalfBath'):\n",
    "    df[col] = df[col].fillna(0)"
   ]
  },
  {
   "cell_type": "code",
   "execution_count": null,
   "metadata": {
    "collapsed": false,
    "pycharm": {
     "name": "#%%\n",
     "is_executing": true
    }
   },
   "outputs": [],
   "source": [
    "df[\"MasVnrType\"] = df[\"MasVnrType\"].fillna(\"None\")\n",
    "df[\"MasVnrArea\"] = df[\"MasVnrArea\"].fillna(0)"
   ]
  },
  {
   "cell_type": "markdown",
   "metadata": {
    "collapsed": false
   },
   "source": [
    "- **Step 4** : Replacing discrete values with median.<br> **Note** : By replacing with median of the entire dataset (test + train), data leakage occurs. But that is ultimately better for accuracy in competition."
   ]
  },
  {
   "cell_type": "code",
   "execution_count": null,
   "metadata": {
    "collapsed": false,
    "pycharm": {
     "name": "#%%\n",
     "is_executing": true
    }
   },
   "outputs": [],
   "source": [
    "missing_data = [var for var in df.columns if df[var].isnull().sum() > 0]\n",
    "for var in missing_data:\n",
    "    df[var] = df[var].fillna(df[var].mode()[0])"
   ]
  },
  {
   "cell_type": "code",
   "execution_count": null,
   "metadata": {
    "collapsed": false,
    "pycharm": {
     "name": "#%%\n",
     "is_executing": true
    }
   },
   "outputs": [],
   "source": [
    "df.isnull().sum().max()"
   ]
  },
  {
   "cell_type": "markdown",
   "source": [
    "Removing \"ID\" columns for now, as it is insignificant for our prediction models."
   ],
   "metadata": {
    "collapsed": false
   }
  },
  {
   "cell_type": "code",
   "execution_count": null,
   "outputs": [],
   "source": [
    "ids = df[\"Id\"]\n",
    "df.drop(columns = \"Id\", inplace = True)"
   ],
   "metadata": {
    "collapsed": false,
    "pycharm": {
     "name": "#%%\n",
     "is_executing": true
    }
   }
  },
  {
   "cell_type": "markdown",
   "metadata": {
    "collapsed": false
   },
   "source": [
    "These are actually categorical classes but disguised as discrete numbers. Let’s first convert them into categorical values, and then use LabelEncoder on them to prevent an inconsistencies."
   ]
  },
  {
   "cell_type": "code",
   "execution_count": null,
   "metadata": {
    "collapsed": false,
    "pycharm": {
     "name": "#%%\n",
     "is_executing": true
    }
   },
   "outputs": [],
   "source": [
    "not_discrete = []\n",
    "for feature in df.columns:\n",
    "    if len(df[feature].unique()) < 20 and df[feature].dtype != \"object\":\n",
    "        df[feature] = df[feature].astype(str)\n",
    "        not_discrete.append(feature)"
   ]
  },
  {
   "cell_type": "markdown",
   "metadata": {
    "collapsed": false
   },
   "source": [
    "## V. Normalizing Variables"
   ]
  },
  {
   "cell_type": "code",
   "execution_count": null,
   "metadata": {
    "collapsed": false,
    "pycharm": {
     "name": "#%%\n",
     "is_executing": true
    }
   },
   "outputs": [],
   "source": [
    "# Let's find the skew for all the numerical features.\n",
    "numeric = [var for var in df.columns if df[var].dtype != \"object\"]\n",
    "skewed = [df[var].skew() for var in numeric]\n",
    "skewed = pd.Series(skewed, index=numeric, name=\"Skew\").sort_values(ascending=False)\n",
    "skewed"
   ]
  },
  {
   "cell_type": "code",
   "execution_count": null,
   "metadata": {
    "collapsed": false,
    "pycharm": {
     "name": "#%%\n",
     "is_executing": true
    }
   },
   "outputs": [],
   "source": [
    "# Filtering out variables whose skew is greater than 0.75 (abs)\n",
    "for (skew, index) in zip(skewed, skewed.index):\n",
    "    if skew < 0.75:\n",
    "        skewed.drop(index = index, inplace = True)\n",
    "skewed"
   ]
  },
  {
   "cell_type": "code",
   "execution_count": null,
   "metadata": {
    "collapsed": false,
    "pycharm": {
     "name": "#%%\n",
     "is_executing": true
    }
   },
   "outputs": [],
   "source": [
    "# Visualizing distribution.\n",
    "plot_no = 0\n",
    "plt.figure(figsize=(18, 40))\n",
    "for feature in skewed.index:\n",
    "    plt.subplot(9, 4, plot_no + 1)\n",
    "    sns.distplot(df[feature], kde = True, fit=norm)\n",
    "    plt.subplot(9, 4, plot_no + 2)\n",
    "    stats.probplot(df[feature], plot=plt)\n",
    "    plot_no += 2\n",
    "plt.tight_layout()"
   ]
  },
  {
   "cell_type": "markdown",
   "metadata": {
    "collapsed": false
   },
   "source": [
    "Now that we have all the skewed features, I chose to apply log1p transformation.\n",
    "log1p adds 1 to all values and then applies log. This is to prevent log(0) errors."
   ]
  },
  {
   "cell_type": "code",
   "execution_count": null,
   "metadata": {
    "collapsed": false,
    "pycharm": {
     "name": "#%%\n",
     "is_executing": true
    }
   },
   "outputs": [],
   "source": [
    "# applying log transformation to 1 + x.\n",
    "df_temp = df.copy()\n",
    "from scipy.special import boxcox1p\n",
    "lam = 0.15\n",
    "for feat in skewed.index:\n",
    "    df_temp[feat] = boxcox1p(df_temp[feat], lam)"
   ]
  },
  {
   "cell_type": "code",
   "execution_count": null,
   "metadata": {
    "collapsed": false,
    "pycharm": {
     "name": "#%%\n",
     "is_executing": true
    }
   },
   "outputs": [],
   "source": [
    "plot_no = 0\n",
    "plt.figure(figsize=(18, 40))\n",
    "for feature in skewed.index:\n",
    "    plt.subplot(9, 4, plot_no + 1)\n",
    "    sns.distplot(df[feature], kde = True, fit=norm)\n",
    "    plt.title(\"Before\", fontsize = 20)\n",
    "    plt.subplot(9, 4, plot_no + 2)\n",
    "    sns.distplot(df_temp[feature], kde = True, fit=norm)\n",
    "    plt.title(\"After\", fontsize = 20)\n",
    "    plot_no += 2\n",
    "\n",
    "plt.tight_layout()"
   ]
  },
  {
   "cell_type": "code",
   "execution_count": null,
   "metadata": {
    "pycharm": {
     "is_executing": true
    }
   },
   "outputs": [],
   "source": [
    "df = df_temp"
   ]
  },
  {
   "cell_type": "markdown",
   "metadata": {
    "collapsed": false
   },
   "source": [
    "## VI. Final Changes"
   ]
  },
  {
   "cell_type": "markdown",
   "metadata": {
    "collapsed": false
   },
   "source": [
    "These are actually categorical classes but disguised as discrete numbers.<br> Let's first convert them into categorical values, and then use LabelEncoder on them to prevent an inconsistencies."
   ]
  },
  {
   "cell_type": "code",
   "execution_count": null,
   "outputs": [],
   "source": [
    "tuple(not_discrete)"
   ],
   "metadata": {
    "collapsed": false,
    "pycharm": {
     "name": "#%%\n",
     "is_executing": true
    }
   }
  },
  {
   "cell_type": "code",
   "execution_count": null,
   "metadata": {
    "collapsed": false,
    "pycharm": {
     "name": "#%%\n",
     "is_executing": true
    }
   },
   "outputs": [],
   "source": [
    "from sklearn.preprocessing import LabelEncoder\n",
    "cols = ('FireplaceQu', 'BsmtQual', 'BsmtCond', 'GarageQual', 'GarageCond',\n",
    "        'ExterQual', 'ExterCond','HeatingQC', 'PoolQC', 'KitchenQual', 'BsmtFinType1',\n",
    "        'BsmtFinType2', 'Functional', 'Fence', 'BsmtExposure', 'GarageFinish', 'LandSlope',\n",
    "        'LotShape', 'PavedDrive', 'Street', 'Alley', 'CentralAir', 'MSSubClass', 'OverallCond',\n",
    "        'YrSold', 'MoSold')\n",
    "cols = tuple(set(cols + tuple(not_discrete)))\n",
    "\n",
    "# process columns, apply LabelEncoder to categorical features\n",
    "for c in cols:\n",
    "    lbl = LabelEncoder()\n",
    "    lbl.fit(list(df[c].values))\n",
    "    df[c] = lbl.transform(list(df[c].values))\n",
    "\n",
    "# shape\n",
    "print('Shape all_data: {}'.format(df.shape))"
   ]
  },
  {
   "cell_type": "code",
   "execution_count": null,
   "metadata": {
    "collapsed": false,
    "pycharm": {
     "name": "#%%\n",
     "is_executing": true
    }
   },
   "outputs": [],
   "source": [
    "# Adding total sq-footage feature\n",
    "df['TotalSF'] = df['TotalBsmtSF'] + df['1stFlrSF'] + df['2ndFlrSF']"
   ]
  },
  {
   "cell_type": "markdown",
   "metadata": {
    "collapsed": false,
    "pycharm": {
     "name": "#%% md\n"
    }
   },
   "source": [
    "### Creating Dummy Variables"
   ]
  },
  {
   "cell_type": "code",
   "execution_count": null,
   "metadata": {
    "collapsed": false,
    "pycharm": {
     "name": "#%%\n",
     "is_executing": true
    }
   },
   "outputs": [],
   "source": [
    "df = pd.get_dummies(df)"
   ]
  },
  {
   "cell_type": "code",
   "execution_count": null,
   "metadata": {
    "collapsed": false,
    "pycharm": {
     "name": "#%%\n",
     "is_executing": true
    }
   },
   "outputs": [],
   "source": [
    "df.shape"
   ]
  },
  {
   "cell_type": "code",
   "execution_count": null,
   "metadata": {
    "collapsed": false,
    "pycharm": {
     "name": "#%%\n",
     "is_executing": true
    }
   },
   "outputs": [],
   "source": [
    "train = df[:ntrain]\n",
    "test = df[ntrain:]\n",
    "y = y_train"
   ]
  },
  {
   "cell_type": "code",
   "execution_count": null,
   "metadata": {
    "pycharm": {
     "is_executing": true
    }
   },
   "outputs": [],
   "source": [
    "train.shape"
   ]
  },
  {
   "cell_type": "markdown",
   "metadata": {
    "collapsed": false,
    "pycharm": {
     "name": "#%% md\n"
    }
   },
   "source": [
    "## VI. Modelling\n",
    "Let's start with basic models like Linear Regression, SVR etc, then move on to their respective improvements like Lasso Regression and finally to Ensemble Learning.\n"
   ]
  },
  {
   "cell_type": "markdown",
   "metadata": {
    "collapsed": false
   },
   "source": [
    "### <u>Basic Modelling</u>"
   ]
  },
  {
   "cell_type": "code",
   "execution_count": null,
   "metadata": {
    "collapsed": false,
    "pycharm": {
     "name": "#%%\n",
     "is_executing": true
    }
   },
   "outputs": [],
   "source": [
    "from sklearn.model_selection import train_test_split\n",
    "X_train, X_test, y_train, y_test = train_test_split(train, y, test_size = 0.2, random_state=1)"
   ]
  },
  {
   "cell_type": "markdown",
   "metadata": {
    "collapsed": false
   },
   "source": [
    "Pre-defined functions for calculating metrics easily. <br>Ignore below code cell."
   ]
  },
  {
   "cell_type": "code",
   "execution_count": null,
   "metadata": {
    "collapsed": false,
    "pycharm": {
     "name": "#%%\n",
     "is_executing": true
    }
   },
   "outputs": [],
   "source": [
    "# Calculating R2 and Adjusted R2\n",
    "def rsquared(x, y):\n",
    "    slope, intercept, r_value, p_value, std_err = linregress(x, y)\n",
    "    return r_value**2\n",
    "\n",
    "def adj_rsquared(x, y, p):\n",
    "    r = rsquared(x, y)\n",
    "    n = len(x)\n",
    "    return 1 - (((1 - r) * (n - 1))/(n - p - 1))\n",
    "# Calculating RMSE\n",
    "def mse(x, y):\n",
    "    mse_score = 0\n",
    "    for actual, pred, in zip(x, y):\n",
    "        mse_score += (actual - pred) ** 2\n",
    "    return mse_score / len(x)\n",
    "\n",
    "# Calculating MAE\n",
    "def mae(x, y):\n",
    "    mae_score = 0\n",
    "    for actual, pred in zip(x, y):\n",
    "        mae_score += abs(actual - pred)\n",
    "    return mae_score / len(x)\n",
    "\n",
    "# Calculating root means squared of log of errors.\n",
    "def rmsle(x, y):\n",
    "    rmsle_score = 0\n",
    "    for actual, pred in zip(x, y):\n",
    "        rmsle_score += (np.log1p(actual) - np.log1p(pred)) ** 2\n",
    "    return math.sqrt(rmsle_score / len(x))\n"
   ]
  },
  {
   "cell_type": "code",
   "execution_count": null,
   "outputs": [],
   "source": [
    "model_results = pd.DataFrame(columns=[\"R2\", \"Adj-R2\", \"RMSE\", \"RMSLE\", \"MAE\"])"
   ],
   "metadata": {
    "collapsed": false,
    "pycharm": {
     "name": "#%%\n",
     "is_executing": true
    }
   }
  },
  {
   "cell_type": "markdown",
   "metadata": {
    "collapsed": false,
    "pycharm": {
     "name": "#%% md\n"
    }
   },
   "source": [
    "### 1. Random Forest Regressor"
   ]
  },
  {
   "cell_type": "code",
   "execution_count": null,
   "metadata": {
    "collapsed": false,
    "pycharm": {
     "name": "#%%\n",
     "is_executing": true
    }
   },
   "outputs": [],
   "source": [
    "# Fitting Random Forest Regression to the dataset\n",
    "from sklearn.ensemble import RandomForestRegressor\n",
    "regressor = RandomForestRegressor(n_estimators = 500, random_state = 0)\n",
    "regressor.fit(X_train, y_train)"
   ]
  },
  {
   "cell_type": "code",
   "execution_count": null,
   "metadata": {
    "collapsed": false,
    "pycharm": {
     "name": "#%%\n",
     "is_executing": true
    }
   },
   "outputs": [],
   "source": [
    "y_pred = regressor.predict(X_test)"
   ]
  },
  {
   "cell_type": "markdown",
   "metadata": {
    "collapsed": false,
    "pycharm": {
     "name": "#%% md\n"
    }
   },
   "source": [
    "#### Analysing results"
   ]
  },
  {
   "cell_type": "code",
   "execution_count": null,
   "metadata": {
    "collapsed": false,
    "pycharm": {
     "name": "#%%\n",
     "is_executing": true
    }
   },
   "outputs": [],
   "source": [
    "predict_data = pd.DataFrame({\"Actual Values\" : y_test.values, \"Predicted\" : y_pred})"
   ]
  },
  {
   "cell_type": "code",
   "execution_count": null,
   "metadata": {
    "collapsed": false,
    "pycharm": {
     "name": "#%%\n",
     "is_executing": true
    }
   },
   "outputs": [],
   "source": [
    "sns.set()\n",
    "plt.figure(figsize=(10, 7))\n",
    "sns.scatterplot(data = predict_data, x = \"Actual Values\", y = \"Predicted\")\n",
    "sns.lineplot(x = [0, 750000], y = [0, 750000], color = \"red\")\n",
    "plt.title(\"Random Forest Results\\n\", fontsize = 20)"
   ]
  },
  {
   "cell_type": "markdown",
   "metadata": {
    "collapsed": false
   },
   "source": [
    "More <b>distant</b> the points are from the line, more the error."
   ]
  },
  {
   "cell_type": "code",
   "execution_count": null,
   "outputs": [],
   "source": [
    "model_results.loc[len(model_results)] = [rsquared(y_pred, y_test), adj_rsquared(y_pred, y_test, X_train.shape[1]), math.sqrt(mse(y_pred, y_test)), rmsle(y_pred, y_test), mae(y_pred, y_test)]\n",
    "indexes = model_results.index.tolist()\n",
    "indexes[len(model_results) - 1] = \"Random Forest\"\n",
    "model_results.index = indexes"
   ],
   "metadata": {
    "collapsed": false,
    "pycharm": {
     "name": "#%%\n",
     "is_executing": true
    }
   }
  },
  {
   "cell_type": "code",
   "execution_count": null,
   "metadata": {
    "collapsed": false,
    "pycharm": {
     "name": "#%%\n",
     "is_executing": true
    }
   },
   "outputs": [],
   "source": [
    "model_results.tail(1)"
   ]
  },
  {
   "cell_type": "markdown",
   "metadata": {
    "collapsed": false
   },
   "source": [
    "### 2. Multiple Linear Regression"
   ]
  },
  {
   "cell_type": "code",
   "execution_count": null,
   "metadata": {
    "collapsed": false,
    "pycharm": {
     "name": "#%%\n",
     "is_executing": true
    }
   },
   "outputs": [],
   "source": [
    "from sklearn import linear_model\n",
    "lin_reg = linear_model.LinearRegression()\n",
    "lin_reg.fit(X_train, y_train)"
   ]
  },
  {
   "cell_type": "code",
   "execution_count": null,
   "metadata": {
    "collapsed": false,
    "pycharm": {
     "name": "#%%\n",
     "is_executing": true
    }
   },
   "outputs": [],
   "source": [
    "y_pred = lin_reg.predict(X_test)"
   ]
  },
  {
   "cell_type": "code",
   "execution_count": null,
   "metadata": {
    "collapsed": false,
    "pycharm": {
     "name": "#%%\n",
     "is_executing": true
    }
   },
   "outputs": [],
   "source": [
    "predict_data = pd.DataFrame({\"Actual Values\" : y_test.values, \"Predicted\" : y_pred})"
   ]
  },
  {
   "cell_type": "code",
   "execution_count": null,
   "metadata": {
    "collapsed": false,
    "pycharm": {
     "name": "#%%\n",
     "is_executing": true
    }
   },
   "outputs": [],
   "source": [
    "sns.set()\n",
    "plt.figure(figsize=(10, 7))\n",
    "sns.scatterplot(data = predict_data, x = \"Actual Values\", y = \"Predicted\")\n",
    "sns.lineplot(x = [0, 750000], y = [0, 750000],  color = \"red\")\n",
    "plt.title(\"Multiple Linear Regression Results\\n\", fontsize = 20)"
   ]
  },
  {
   "cell_type": "code",
   "execution_count": null,
   "outputs": [],
   "source": [
    "model_results.loc[len(model_results)] = [rsquared(y_pred, y_test), adj_rsquared(y_pred, y_test, X_train.shape[1]), math.sqrt(mse(y_pred, y_test)), rmsle(y_pred, y_test), mae(y_pred, y_test)]\n",
    "indexes = model_results.index.tolist()\n",
    "indexes[len(model_results) - 1] = \"Multiple Linear\"\n",
    "model_results.index = indexes"
   ],
   "metadata": {
    "collapsed": false,
    "pycharm": {
     "name": "#%%\n",
     "is_executing": true
    }
   }
  },
  {
   "cell_type": "code",
   "execution_count": null,
   "outputs": [],
   "source": [
    "model_results.tail(1)"
   ],
   "metadata": {
    "collapsed": false,
    "pycharm": {
     "name": "#%%\n",
     "is_executing": true
    }
   }
  },
  {
   "cell_type": "markdown",
   "metadata": {
    "collapsed": false
   },
   "source": [
    "### 3. Polynomial Regression"
   ]
  },
  {
   "cell_type": "code",
   "execution_count": null,
   "metadata": {
    "collapsed": false,
    "pycharm": {
     "name": "#%%\n",
     "is_executing": true
    }
   },
   "outputs": [],
   "source": [
    "# first we have to raise the matrix of features to different powers.\n",
    "from sklearn import preprocessing\n",
    "poly_reg = preprocessing.PolynomialFeatures(degree=2)\n",
    "X_poly = poly_reg.fit_transform(X_train)\n",
    "lin_reg2 = linear_model.LinearRegression()\n",
    "lin_reg2.fit(X_poly, y_train)"
   ]
  },
  {
   "cell_type": "code",
   "execution_count": null,
   "metadata": {
    "collapsed": false,
    "pycharm": {
     "name": "#%%\n",
     "is_executing": true
    }
   },
   "outputs": [],
   "source": [
    "y_pred = lin_reg2.predict(poly_reg.fit_transform(X_test))"
   ]
  },
  {
   "cell_type": "code",
   "execution_count": null,
   "metadata": {
    "collapsed": false,
    "pycharm": {
     "name": "#%%\n",
     "is_executing": true
    }
   },
   "outputs": [],
   "source": [
    "predict_data = pd.DataFrame({\"Actual Values\" : y_test.values, \"Predicted\" : y_pred})"
   ]
  },
  {
   "cell_type": "code",
   "execution_count": null,
   "metadata": {
    "collapsed": false,
    "pycharm": {
     "name": "#%%\n",
     "is_executing": true
    }
   },
   "outputs": [],
   "source": [
    "sns.set()\n",
    "plt.figure(figsize=(10, 7))\n",
    "sns.scatterplot(data = predict_data, x = \"Actual Values\", y = \"Predicted\")\n",
    "sns.lineplot(x = [0, 700000], y = [0, 700000],  color = \"red\")\n",
    "plt.title(\"Polynomial Linear Regression Results\\n\", fontsize = 20)"
   ]
  },
  {
   "cell_type": "markdown",
   "metadata": {
    "collapsed": false
   },
   "source": [
    "<font size=\"+1\"> Polynomial Regression is not suited for datasets with such high column count.\n",
    "I'm actually not sure what happened here, because the number of columns in X_poly can be calculated by :\n",
    "</font><br>\n",
    "<center> features_poly = degree ** features_linear </center>\n",
    "<font size=\"+1\"> <br>\n",
    "which in this case = 2 ** (200 +) which is basically infinity. <br>\n",
    "Not even worth finding accuracy metrics.\n",
    "</font>"
   ]
  },
  {
   "cell_type": "code",
   "execution_count": null,
   "metadata": {
    "collapsed": false,
    "pycharm": {
     "name": "#%%\n",
     "is_executing": true
    }
   },
   "outputs": [],
   "source": [
    "X_poly.shape"
   ]
  },
  {
   "cell_type": "markdown",
   "metadata": {
    "collapsed": false
   },
   "source": [
    "### 4. Support Vector Regression"
   ]
  },
  {
   "cell_type": "code",
   "execution_count": null,
   "metadata": {
    "collapsed": false,
    "pycharm": {
     "name": "#%%\n",
     "is_executing": true
    }
   },
   "outputs": [],
   "source": [
    "# we need to first standardize our data before applying SVR.\n",
    "# first we'll select columns which are problematic (values are too high)\n",
    "problematic_cols = [var for var in train.columns if df[var].max() > 3]"
   ]
  },
  {
   "cell_type": "code",
   "execution_count": null,
   "metadata": {
    "collapsed": false,
    "pycharm": {
     "name": "#%%\n",
     "is_executing": true
    }
   },
   "outputs": [],
   "source": [
    "from sklearn import preprocessing\n",
    "train_svr = train.copy()\n",
    "scx = preprocessing.StandardScaler()\n",
    "train_svr[problematic_cols] = scx.fit_transform(train_svr[problematic_cols])"
   ]
  },
  {
   "cell_type": "code",
   "execution_count": null,
   "metadata": {
    "collapsed": false,
    "pycharm": {
     "name": "#%%\n",
     "is_executing": true
    }
   },
   "outputs": [],
   "source": [
    "y_svr = y.copy().to_numpy()\n",
    "sc = preprocessing.StandardScaler()\n",
    "y_svr = sc.fit_transform(y_svr.reshape(len(y_svr), 1))"
   ]
  },
  {
   "cell_type": "code",
   "execution_count": null,
   "metadata": {
    "collapsed": false,
    "pycharm": {
     "name": "#%%\n",
     "is_executing": true
    }
   },
   "outputs": [],
   "source": [
    "X_train_svr, X_test_svr, y_train_svr, y_test_svr = train_test_split(train_svr, y_svr, test_size = 0.2)"
   ]
  },
  {
   "cell_type": "markdown",
   "metadata": {
    "collapsed": false
   },
   "source": [
    "<font size=\"+1\"> Training SVR Model </font>"
   ]
  },
  {
   "cell_type": "code",
   "execution_count": null,
   "metadata": {
    "collapsed": false,
    "pycharm": {
     "name": "#%%\n",
     "is_executing": true
    }
   },
   "outputs": [],
   "source": [
    "from sklearn.svm import SVR\n",
    "svr_reg = SVR(kernel='rbf')\n",
    "svr_reg.fit(X_train_svr, y_train_svr)"
   ]
  },
  {
   "cell_type": "code",
   "execution_count": null,
   "metadata": {
    "collapsed": false,
    "pycharm": {
     "name": "#%%\n",
     "is_executing": true
    }
   },
   "outputs": [],
   "source": [
    "y_pred_svr = svr_reg.predict(X_test_svr)\n",
    "y_pred_svr = sc.inverse_transform(y_pred_svr)"
   ]
  },
  {
   "cell_type": "code",
   "execution_count": null,
   "metadata": {
    "collapsed": false,
    "pycharm": {
     "name": "#%%\n",
     "is_executing": true
    }
   },
   "outputs": [],
   "source": [
    "y_test_svr = sc.inverse_transform(y_test_svr.flatten())"
   ]
  },
  {
   "cell_type": "code",
   "execution_count": null,
   "metadata": {
    "collapsed": false,
    "pycharm": {
     "name": "#%%\n",
     "is_executing": true
    }
   },
   "outputs": [],
   "source": [
    "predict_data = pd.DataFrame({\"Actual Values\" : list(y_test_svr.flatten()), \"Predicted\" : list(y_pred_svr)})"
   ]
  },
  {
   "cell_type": "code",
   "execution_count": null,
   "metadata": {
    "collapsed": false,
    "pycharm": {
     "name": "#%%\n",
     "is_executing": true
    }
   },
   "outputs": [],
   "source": [
    "predict_data.head(3)"
   ]
  },
  {
   "cell_type": "code",
   "execution_count": null,
   "metadata": {
    "collapsed": false,
    "pycharm": {
     "name": "#%%\n",
     "is_executing": true
    }
   },
   "outputs": [],
   "source": [
    "sns.set()\n",
    "plt.figure(figsize=(10, 7))\n",
    "sns.scatterplot(data = predict_data, x = \"Actual Values\", y = \"Predicted\")\n",
    "sns.lineplot(x = [0, 600000], y = [0, 600000],  color = \"red\")\n",
    "plt.title(\"SVR Regression Results\\n\", fontsize = 20)"
   ]
  },
  {
   "cell_type": "code",
   "execution_count": null,
   "metadata": {
    "collapsed": false,
    "pycharm": {
     "name": "#%%\n",
     "is_executing": true
    }
   },
   "outputs": [],
   "source": [
    "model_results.loc[len(model_results)] = [rsquared(y_pred_svr, y_test_svr), adj_rsquared(y_pred_svr, y_test_svr, X_train_svr.shape[1]), math.sqrt(mse(y_pred_svr, y_test_svr)), rmsle(y_pred_svr, y_test_svr), mae(y_pred_svr, y_test_svr)]\n",
    "indexes = model_results.index.tolist()\n",
    "indexes[len(model_results) - 1] = \"Support Vector\"\n",
    "model_results.index = indexes\n",
    "model_results.tail(1)"
   ]
  },
  {
   "cell_type": "markdown",
   "metadata": {
    "collapsed": false
   },
   "source": [
    "<font size=\"+2\"> <i> Basic regression techinques are resulting in large RMSLE and adj. R-squared errors.\n",
    "Let's move on to ensemble learning. </i></font>\n",
    "<hr>\n",
    "<font size=\"+1\"> <b>Conclusion</b> : Best accuracy achieved with Support Vector Regression and Random Forest Regression. </font>"
   ]
  },
  {
   "cell_type": "markdown",
   "metadata": {
    "collapsed": false,
    "pycharm": {
     "name": "#%% md\n"
    }
   },
   "source": [
    "## <u>Advanced Modelling</u>\n"
   ]
  },
  {
   "cell_type": "markdown",
   "metadata": {
    "collapsed": false
   },
   "source": [
    "Let's define cross validation functions as it will be necessary from here on."
   ]
  },
  {
   "cell_type": "code",
   "execution_count": null,
   "metadata": {
    "collapsed": false,
    "pycharm": {
     "name": "#%%\n",
     "is_executing": true
    }
   },
   "outputs": [],
   "source": [
    "# Let's introduce cross-validation.\n",
    "from sklearn.model_selection import KFold, cross_val_score\n",
    "def rmse_cv(model, k_fold):\n",
    "    kf = KFold(k_fold, shuffle=True, random_state=42).get_n_splits(train.values)\n",
    "    rmse= np.sqrt(-cross_val_score(model, train.values, y, scoring=\"neg_mean_squared_error\", cv = kf))\n",
    "    return (rmse)\n",
    "\n",
    "def rmsle_cv(model, k_fold):\n",
    "    kf = KFold(k_fold, shuffle=True, random_state=42).get_n_splits(train.values)\n",
    "    rmsle= np.sqrt(-cross_val_score(model, train.values, y, scoring=\"neg_mean_squared_log_error\", cv = kf))\n",
    "    return (rmsle)"
   ]
  },
  {
   "cell_type": "markdown",
   "metadata": {
    "collapsed": false,
    "pycharm": {
     "name": "#%% md\n"
    }
   },
   "source": [
    "<h3> 5. Lasso Regression </h3>"
   ]
  },
  {
   "cell_type": "markdown",
   "metadata": {
    "collapsed": false
   },
   "source": [
    "- Lasso Regression is an improvement over Multiple Linear Regression.\n",
    "- It tried to reduce overfitting and increase generalization.\n",
    "- The value of alpha determines the level of generalization. At alpha = 0, Lasso Regression behaves exactly like Multiple Linear Regression."
   ]
  },
  {
   "cell_type": "code",
   "execution_count": null,
   "metadata": {
    "collapsed": false,
    "pycharm": {
     "name": "#%%\n",
     "is_executing": true
    }
   },
   "outputs": [],
   "source": [
    "from sklearn.linear_model import Lasso\n",
    "from sklearn.pipeline import make_pipeline\n",
    "from sklearn import preprocessing"
   ]
  },
  {
   "cell_type": "code",
   "execution_count": null,
   "metadata": {
    "collapsed": false,
    "pycharm": {
     "name": "#%%\n",
     "is_executing": true
    }
   },
   "outputs": [],
   "source": [
    "top_score, best_alpha = 1000000000, -1\n",
    "for i in range(110, 121):\n",
    "    alpha = 0 + (i * 1)\n",
    "    lasso_reg = make_pipeline(preprocessing.RobustScaler(), Lasso(alpha = alpha, random_state=0))\n",
    "    score = rmse_cv(lasso_reg, 15).mean()\n",
    "    print(score)\n",
    "    if score < top_score:\n",
    "        top_score, best_alpha = score, alpha\n",
    "\n",
    "print(\"Best Score : {}, with alpha : {}\".format(top_score, best_alpha))"
   ]
  },
  {
   "cell_type": "markdown",
   "metadata": {
    "collapsed": false
   },
   "source": [
    "<font size = \"+1\"> Results are best at alpha = 115. Used Binary Search principle to arrive at this value </font>"
   ]
  },
  {
   "cell_type": "code",
   "execution_count": null,
   "metadata": {
    "collapsed": false,
    "pycharm": {
     "name": "#%%\n",
     "is_executing": true
    }
   },
   "outputs": [],
   "source": [
    "lasso_reg = make_pipeline(preprocessing.RobustScaler(), Lasso(alpha=115, random_state=0))"
   ]
  },
  {
   "cell_type": "code",
   "execution_count": null,
   "metadata": {
    "collapsed": false,
    "pycharm": {
     "name": "#%%\n",
     "is_executing": true
    }
   },
   "outputs": [],
   "source": [
    "lasso_reg.fit(X_train, y_train)"
   ]
  },
  {
   "cell_type": "code",
   "execution_count": null,
   "metadata": {
    "collapsed": false,
    "pycharm": {
     "name": "#%%\n",
     "is_executing": true
    }
   },
   "outputs": [],
   "source": [
    "y_pred = lasso_reg.predict(X_test)"
   ]
  },
  {
   "cell_type": "code",
   "execution_count": null,
   "metadata": {
    "collapsed": false,
    "pycharm": {
     "name": "#%%\n",
     "is_executing": true
    }
   },
   "outputs": [],
   "source": [
    "predict_data = pd.DataFrame({\"Actual Values\" : y_test.values, \"Predicted\" : y_pred})"
   ]
  },
  {
   "cell_type": "code",
   "execution_count": null,
   "metadata": {
    "collapsed": false,
    "pycharm": {
     "name": "#%%\n",
     "is_executing": true
    }
   },
   "outputs": [],
   "source": [
    "plt.figure(figsize=(10, 7))\n",
    "sns.scatterplot(data = predict_data, x = \"Actual Values\", y = \"Predicted\")\n",
    "sns.lineplot(x = [0, 750000], y = [0, 750000],  color = \"red\")\n",
    "plt.title(\"Lasso Regression Results\\n\", fontsize = 20)"
   ]
  },
  {
   "cell_type": "code",
   "execution_count": null,
   "metadata": {
    "collapsed": false,
    "pycharm": {
     "name": "#%%\n",
     "is_executing": true
    }
   },
   "outputs": [],
   "source": [
    "model_results.loc[len(model_results)] = [rsquared(y_pred, y_test), adj_rsquared(y_pred, y_test, X_train.shape[1]), math.sqrt(mse(y_pred, y_test)), rmsle(y_pred, y_test), mae(y_pred, y_test)]\n",
    "indexes = model_results.index.tolist()\n",
    "indexes[len(model_results) - 1] = \"Lasso\"\n",
    "model_results.index = indexes\n",
    "model_results.tail(1)"
   ]
  },
  {
   "cell_type": "markdown",
   "metadata": {
    "collapsed": false
   },
   "source": [
    "<font size=\"+1\"> Lasso Regression got a RMSE of 35100 in test dataset. Score has certainly improved over simple MLR </font>"
   ]
  },
  {
   "cell_type": "markdown",
   "source": [
    "### 6. Elastic-Net Regression\n",
    "Combines both ridge and lasso regression."
   ],
   "metadata": {
    "collapsed": false
   }
  },
  {
   "cell_type": "code",
   "execution_count": null,
   "outputs": [],
   "source": [
    "from sklearn.linear_model import ElasticNet\n",
    "ENet = make_pipeline(preprocessing.RobustScaler(), ElasticNet(alpha=0.4, l1_ratio=.9, random_state=3))\n",
    "print(\"Cross-Validation RMSE : {}\".format(rmse_cv(ENet, 10).mean()))"
   ],
   "metadata": {
    "collapsed": false,
    "pycharm": {
     "name": "#%%\n",
     "is_executing": true
    }
   }
  },
  {
   "cell_type": "code",
   "execution_count": null,
   "outputs": [],
   "source": [
    "ENet.fit(X_train, y_train)\n",
    "y_pred = ENet.predict(X_test)"
   ],
   "metadata": {
    "collapsed": false,
    "pycharm": {
     "name": "#%%\n",
     "is_executing": true
    }
   }
  },
  {
   "cell_type": "code",
   "execution_count": null,
   "outputs": [],
   "source": [
    "predict_data = pd.DataFrame({\"Actual Values\" : y_test.values, \"Predicted\" : y_pred})\n",
    "plt.figure(figsize=(10, 7))\n",
    "sns.scatterplot(data = predict_data, x = \"Actual Values\", y = \"Predicted\")\n",
    "sns.lineplot(x = [0, 750000], y = [0, 750000],  color = \"red\")\n",
    "plt.title(\"Elastic Net Regression Results\\n\", fontsize = 20)"
   ],
   "metadata": {
    "collapsed": false,
    "pycharm": {
     "name": "#%%\n",
     "is_executing": true
    }
   }
  },
  {
   "cell_type": "code",
   "execution_count": null,
   "outputs": [],
   "source": [
    "model_results.loc[len(model_results)] = [rsquared(y_pred, y_test), adj_rsquared(y_pred, y_test, X_train.shape[1]), math.sqrt(mse(y_pred, y_test)), rmsle(y_pred, y_test), mae(y_pred, y_test)]\n",
    "indexes = model_results.index.tolist()\n",
    "indexes[len(model_results) - 1] = \"Elastic Net\"\n",
    "model_results.index = indexes\n",
    "model_results.tail(1)"
   ],
   "metadata": {
    "collapsed": false,
    "pycharm": {
     "name": "#%%\n",
     "is_executing": true
    }
   }
  },
  {
   "cell_type": "markdown",
   "metadata": {
    "collapsed": false,
    "pycharm": {
     "name": "#%% md\n"
    }
   },
   "source": [
    "### 7. Gradient Boost"
   ]
  },
  {
   "cell_type": "code",
   "execution_count": null,
   "metadata": {
    "collapsed": false,
    "pycharm": {
     "name": "#%%\n",
     "is_executing": true
    }
   },
   "outputs": [],
   "source": [
    "from sklearn.ensemble import GradientBoostingRegressor\n",
    "gboost_reg = GradientBoostingRegressor()"
   ]
  },
  {
   "cell_type": "code",
   "execution_count": null,
   "metadata": {
    "collapsed": false,
    "pycharm": {
     "name": "#%%\n",
     "is_executing": true
    }
   },
   "outputs": [],
   "source": [
    "print(\"Gradient Boost RMSE : {}\".format(rmse_cv(gboost_reg, 10).mean()))"
   ]
  },
  {
   "cell_type": "code",
   "execution_count": null,
   "outputs": [],
   "source": [
    "gboost_reg.fit(X_train, y_train)"
   ],
   "metadata": {
    "collapsed": false,
    "pycharm": {
     "name": "#%%\n",
     "is_executing": true
    }
   }
  },
  {
   "cell_type": "code",
   "execution_count": null,
   "outputs": [],
   "source": [
    "y_pred = gboost_reg.predict(X_test)"
   ],
   "metadata": {
    "collapsed": false,
    "pycharm": {
     "name": "#%%\n",
     "is_executing": true
    }
   }
  },
  {
   "cell_type": "code",
   "execution_count": null,
   "outputs": [],
   "source": [
    "predict_data = pd.DataFrame({\"Actual Values\" : y_test.values, \"Predicted\" : y_pred})\n",
    "plt.figure(figsize=(10, 7))\n",
    "sns.scatterplot(data = predict_data, x = \"Actual Values\", y = \"Predicted\")\n",
    "sns.lineplot(x = [0, 750000], y = [0, 750000],  color = \"red\")\n",
    "plt.title(\"Gradient Boost Regression Results\\n\", fontsize = 20)"
   ],
   "metadata": {
    "collapsed": false,
    "pycharm": {
     "name": "#%%\n",
     "is_executing": true
    }
   }
  },
  {
   "cell_type": "code",
   "execution_count": null,
   "outputs": [],
   "source": [
    "model_results.loc[len(model_results)] = [rsquared(y_pred, y_test), adj_rsquared(y_pred, y_test, X_train.shape[1]), math.sqrt(mse(y_pred, y_test)), rmsle(y_pred, y_test), mae(y_pred, y_test)]\n",
    "indexes = model_results.index.tolist()\n",
    "indexes[len(model_results) - 1] = \"Gradient Boost\"\n",
    "model_results.index = indexes\n",
    "model_results.tail(1)"
   ],
   "metadata": {
    "collapsed": false,
    "pycharm": {
     "name": "#%%\n",
     "is_executing": true
    }
   }
  },
  {
   "cell_type": "code",
   "execution_count": null,
   "outputs": [],
   "source": [
    "model_results"
   ],
   "metadata": {
    "collapsed": false,
    "pycharm": {
     "name": "#%%\n",
     "is_executing": true
    }
   }
  },
  {
   "cell_type": "markdown",
   "source": [
    "### 8. XGBoost Regression"
   ],
   "metadata": {
    "collapsed": false,
    "pycharm": {
     "name": "#%% md\n"
    }
   }
  },
  {
   "cell_type": "code",
   "execution_count": null,
   "outputs": [],
   "source": [
    "import xgboost as xgb\n",
    "xgb_reg = xgb.XGBRegressor()"
   ],
   "metadata": {
    "collapsed": false,
    "pycharm": {
     "name": "#%%\n",
     "is_executing": true
    }
   }
  },
  {
   "cell_type": "code",
   "execution_count": null,
   "outputs": [],
   "source": [
    "xgb_reg.fit(X_train, y_train)\n",
    "y_pred = xgb_reg.predict(X_test)\n",
    "predict_data = pd.DataFrame({\"Actual Values\" : y_test.values, \"Predicted\" : y_pred})\n",
    "plt.figure(figsize=(10, 7))\n",
    "sns.scatterplot(data = predict_data, x = \"Actual Values\", y = \"Predicted\")\n",
    "sns.lineplot(x = [0, 750000], y = [0, 750000],  color = \"red\")\n",
    "plt.title(\"XGBoost Regression Results\\n\", fontsize = 20)"
   ],
   "metadata": {
    "collapsed": false,
    "pycharm": {
     "name": "#%%\n",
     "is_executing": true
    }
   }
  },
  {
   "cell_type": "code",
   "execution_count": null,
   "outputs": [],
   "source": [
    "model_results.loc[len(model_results)] = [rsquared(y_pred, y_test), adj_rsquared(y_pred, y_test, X_train.shape[1]), math.sqrt(mse(y_pred, y_test)), rmsle(y_pred, y_test), mae(y_pred, y_test)]\n",
    "indexes = model_results.index.tolist()\n",
    "indexes[len(model_results) - 1] = \"XGBoost\"\n",
    "model_results.index = indexes\n",
    "model_results.tail(1)"
   ],
   "metadata": {
    "collapsed": false,
    "pycharm": {
     "name": "#%%\n",
     "is_executing": true
    }
   }
  },
  {
   "cell_type": "markdown",
   "source": [
    "## Ensemble Learning\n",
    "First, let's take a look at all the performance of all the models tested."
   ],
   "metadata": {
    "collapsed": false
   }
  },
  {
   "cell_type": "code",
   "execution_count": null,
   "outputs": [],
   "source": [
    "model_results"
   ],
   "metadata": {
    "collapsed": false,
    "pycharm": {
     "name": "#%%\n",
     "is_executing": true
    }
   }
  },
  {
   "cell_type": "code",
   "execution_count": null,
   "outputs": [],
   "source": [
    "plt.figure(figsize=(16, 7))\n",
    "plt.subplot(1, 2, 1)\n",
    "rmseplot = sns.barplot(y = model_results[\"RMSE\"], x =  model_results.index)\n",
    "plt.xticks(rotation = 75)\n",
    "plt.subplot(1, 2, 2)\n",
    "maeplot = sns.barplot(y = model_results[\"MAE\"], x =  model_results.index)\n",
    "plt.xticks(rotation = 75)\n",
    "plt.show()"
   ],
   "metadata": {
    "collapsed": false,
    "pycharm": {
     "name": "#%%\n",
     "is_executing": true
    }
   }
  },
  {
   "cell_type": "markdown",
   "source": [
    "Top 3 models are Support Vector Regression, Random Forest, and Lasso Regression."
   ],
   "metadata": {
    "collapsed": false
   }
  },
  {
   "cell_type": "markdown",
   "source": [
    "### Bagging Approach\n",
    "Returns mean prediction of all given models."
   ],
   "metadata": {
    "collapsed": false
   }
  },
  {
   "cell_type": "code",
   "execution_count": null,
   "outputs": [],
   "source": [
    "from sklearn.base import BaseEstimator, TransformerMixin, RegressorMixin, clone\n",
    "class AveragingModels(BaseEstimator, RegressorMixin, TransformerMixin):\n",
    "    def __init__(self, models):\n",
    "        self.models = models\n",
    "\n",
    "    def fit(self, X, y):\n",
    "        self.models_ = [clone(x) for x in self.models]\n",
    "\n",
    "        for model in self.models_:\n",
    "            model.fit(X, y)\n",
    "\n",
    "        return self\n",
    "\n",
    "    def predict(self, X):\n",
    "        predictions = np.column_stack([\n",
    "            model.predict(X) for model in self.models_\n",
    "        ])\n",
    "        return np.mean(predictions, axis=1)"
   ],
   "metadata": {
    "collapsed": false,
    "pycharm": {
     "name": "#%%\n",
     "is_executing": true
    }
   }
  },
  {
   "cell_type": "code",
   "execution_count": null,
   "outputs": [],
   "source": [
    "svr_reg = make_pipeline(preprocessing.StandardScaler(), SVR(kernel='rbf'))\n",
    "xgb_reg = xgb.XGBRegressor()\n",
    "lasso_reg = make_pipeline(preprocessing.RobustScaler(), Lasso(alpha=340, random_state=0))\n",
    "rfr_reg = RandomForestRegressor(n_estimators = 500, random_state = 0)\n",
    "\n",
    "bagged_model = AveragingModels(models = (svr_reg, xgb_reg, lasso_reg, rfr_reg))"
   ],
   "metadata": {
    "collapsed": false,
    "pycharm": {
     "name": "#%%\n",
     "is_executing": true
    }
   }
  },
  {
   "cell_type": "code",
   "execution_count": null,
   "outputs": [],
   "source": [
    "bagged_model.fit(X_train, y_train)\n",
    "y_pred = bagged_model.predict(X_test)"
   ],
   "metadata": {
    "collapsed": false,
    "pycharm": {
     "name": "#%%\n",
     "is_executing": true
    }
   }
  },
  {
   "cell_type": "code",
   "execution_count": null,
   "outputs": [],
   "source": [
    "predict_data = pd.DataFrame({\"Actual Values\" : y_test.values, \"Predicted\" : y_pred})\n",
    "plt.figure(figsize=(10, 7))\n",
    "sns.scatterplot(data = predict_data, x = \"Actual Values\", y = \"Predicted\")\n",
    "sns.lineplot(x = [0, 750000], y = [0, 750000],  color = \"red\")\n",
    "plt.title(\"Bagged Model Regression Results\\n\", fontsize = 20)"
   ],
   "metadata": {
    "collapsed": false,
    "pycharm": {
     "name": "#%%\n",
     "is_executing": true
    }
   }
  },
  {
   "cell_type": "code",
   "execution_count": null,
   "outputs": [],
   "source": [
    "model_results.loc[len(model_results)] = [rsquared(y_pred, y_test), adj_rsquared(y_pred, y_test, X_train.shape[1]), math.sqrt(mse(y_pred, y_test)), rmsle(y_pred, y_test), mae(y_pred, y_test)]\n",
    "indexes = model_results.index.tolist()\n",
    "indexes[len(model_results) - 1] = \"Average Ensemble\"\n",
    "model_results.index = indexes\n",
    "model_results.tail(1)"
   ],
   "metadata": {
    "collapsed": false,
    "pycharm": {
     "name": "#%%\n",
     "is_executing": true
    }
   }
  },
  {
   "cell_type": "markdown",
   "source": [
    "<hr>\n",
    "<h3> SVR still remains unbeaten. <h3>\n",
    "<hr>"
   ],
   "metadata": {
    "collapsed": false,
    "pycharm": {
     "name": "#%% md\n"
    }
   }
  }
 ],
 "metadata": {
  "kernelspec": {
   "display_name": "Python 3",
   "language": "python",
   "name": "python3"
  },
  "language_info": {
   "codemirror_mode": {
    "name": "ipython",
    "version": 3
   },
   "file_extension": ".py",
   "mimetype": "text/x-python",
   "name": "python",
   "nbconvert_exporter": "python",
   "pygments_lexer": "ipython3",
   "version": "3.9.7"
  }
 },
 "nbformat": 4,
 "nbformat_minor": 0
}